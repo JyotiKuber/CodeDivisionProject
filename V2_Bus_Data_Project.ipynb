{
  "nbformat": 4,
  "nbformat_minor": 0,
  "metadata": {
    "colab": {
      "provenance": [],
      "authorship_tag": "ABX9TyPs1ApMTblN3KAJEIMukGYT",
      "include_colab_link": true
    },
    "kernelspec": {
      "name": "python3",
      "display_name": "Python 3"
    },
    "language_info": {
      "name": "python"
    }
  },
  "cells": [
    {
      "cell_type": "markdown",
      "metadata": {
        "id": "view-in-github",
        "colab_type": "text"
      },
      "source": [
        "<a href=\"https://colab.research.google.com/github/JyotiKuber/CodeDivisionProject/blob/main/V2_Bus_Data_Project.ipynb\" target=\"_parent\"><img src=\"https://colab.research.google.com/assets/colab-badge.svg\" alt=\"Open In Colab\"/></a>"
      ]
    },
    {
      "cell_type": "markdown",
      "source": [
        "# **Bus Journey to find how may hours each bus is on road**\n"
      ],
      "metadata": {
        "id": "WgJXkFKGlk6B"
      }
    },
    {
      "cell_type": "markdown",
      "source": [
        "In terms of the bus data, a question that I would like answer is how many hours are buses which have Euro III engines (over 15 years old) on the road each day when data has been collected. \n",
        "\n",
        "The data is collected every Wednesday and has a record for every 5 minute interval from 6am to 11.55pm. In each 5 minute interval there is data on every bus out on a route.\n",
        "\n",
        "First version bus_data_project.ipynb contains the code which will calculate how many hours each bus is on route (assuming that if it is recorded in one 5 minute interval then we can assume that it was on the route for the whole of that 5 minutes)\n",
        "\n",
        "Then, using a list of all the buses in the dataset, which has then been updated with the engine type (this may be a manual process which will produce a CSV file), I'll be able to filter for just the Euro III buses and \n",
        "calculate the total number of hours."
      ],
      "metadata": {
        "id": "yTRkdf4dZ7Pi"
      }
    },
    {
      "cell_type": "markdown",
      "source": [
        "## Dataset Description "
      ],
      "metadata": {
        "id": "1g7cOcd1matR"
      }
    },
    {
      "cell_type": "markdown",
      "source": [],
      "metadata": {
        "id": "bqVUZofYr47T"
      }
    },
    {
      "cell_type": "markdown",
      "source": [
        "\n",
        "https://tlewssdc6f.execute-api.eu-west-2.amazonaws.com/default/get_bus_tracking_data\n",
        "\n",
        "The data comes from the Bus Open Data Service (Bus Open Data Service (dft.gov.uk)). Live tracking data (used for the bus company apps) is updated every 10 seconds. futureCoders sample this data every 5 minutes each Wednesday from 6:00 am to 11:55pm and store the data in files, one for every 5 minutes. The data contains information about every bus that is out on a route in that 5 minute snapshot.\n",
        "\n",
        "The data for bus journeys is in this folder on Github: \n",
        "\n",
        "python-programming-for-data/Datasets at main · futureCodersSE/python-programming-for-data\n",
        "\n",
        "Here we are working on data recieved in folder 04-Jan-2023 6:00am to 11:55pm\n",
        "and json file contains data for each 5 minutes interval.\n",
        "\n"
      ],
      "metadata": {
        "id": "mrHc7cTPZ4jX"
      }
    },
    {
      "cell_type": "code",
      "source": [
        "import requests\n",
        "import json\n",
        "import pandas as pd\n",
        "\n",
        "def get_5minutes_data(date,time):\n",
        "  api_url = \"https://tlewssdc6f.execute-api.eu-west-2.amazonaws.com/default/get_bus_tracking_data\"\n",
        "  body = {\"method\": \"get_data\",\"request\": {\"date\": date,\"time\": time}}\n",
        "  response = requests.post(api_url, json=body)\n",
        "  return json.loads(response.json())\n",
        "\n",
        "def get_1hour_data(date,hour):\n",
        "  hour_str = str(hour)\n",
        "  if hour < 10:\n",
        "    hour_str = '0'+ hour_str\n",
        "  bus_data_list =[]  \n",
        "  for minutes in range(0,56,5):\n",
        "    if minutes < 10:\n",
        "      recorded_time = hour_str +':'+ '0'+ str(minutes)\n",
        "    else:\n",
        "      recorded_time = hour_str +':'+ str(minutes)\n",
        "    bus_data = get_5minutes_data(date,recorded_time)\n",
        "    bus_data_list.append(bus_data)\n",
        "  #display(len(bus_data_list))\n",
        "  return bus_data_list\n",
        " \n",
        "def get_1day_data(date):\n",
        "  bus_data_list = []\n",
        "  for hour in range(6,24):\n",
        "    hour_bus_data = get_1hour_data(date,hour)\n",
        "    bus_data_list.append(hour_bus_data)\n",
        "  return bus_data_list\n",
        "\n",
        "recording_date = '04-01-23'\n",
        "recording_time = '06:00'\n",
        "day_bus_data = get_1day_data(recording_date)\n",
        "display(len(day_bus_data))"
      ],
      "metadata": {
        "id": "WWxSWkyUkKtS",
        "colab": {
          "base_uri": "https://localhost:8080/",
          "height": 34
        },
        "outputId": "8f1c459a-cb5d-4a64-e5b2-0ffb5aff89a1"
      },
      "execution_count": 41,
      "outputs": [
        {
          "output_type": "display_data",
          "data": {
            "text/plain": [
              "18"
            ]
          },
          "metadata": {}
        }
      ]
    },
    {
      "cell_type": "markdown",
      "source": [
        "#Data cleaning\n"
      ],
      "metadata": {
        "id": "rcXbBR-JIEuA"
      }
    },
    {
      "cell_type": "markdown",
      "source": [
        "I installed JSON Formatter in Google chrome browser(from chrome webstore). Now after restarting Chrome, I can see parsed JSON which is more readable to work.\n",
        "\n",
        "Initial processing requirements - create a dataframe from the tracked buses data that has the following columns:\n",
        "\n",
        "RecordedAtTime\n",
        "LineRef\n",
        "OperatorRef\n",
        "VehicleRef\n",
        "Here as the data contains dates and time from different days also first we'll need to clean the data using the date on JSON file and it should match to the RecordedAtTime in the file records.\n",
        "\n",
        "Here we are collecting only the records which are in given date 04/01/2023 and time 23:05. The timestamp is used to filter out the bus route information between 5 minutes.\n",
        "\n",
        "Once we get the number of EURO III engine buses running on the road in 5 minutes we can calculate the buses in one hour and then in one day.\n",
        "\n",
        "Save filtered data in an Excel or CSV file."
      ],
      "metadata": {
        "id": "qR0D1Qjfox2V"
      }
    },
    {
      "cell_type": "code",
      "source": [
        "from datetime import datetime, timedelta\n",
        "\n",
        "def get_snapshot_time_from_file_name(required_minutes):\n",
        "  required_day = int(recording_date.split('-')[0])\n",
        "  required_year = 2000 + int(recording_date.split('-')[2])\n",
        "  required_month= int(recording_date.split('-')[1])\n",
        "  required_hour = int(recording_time.split(':')[0])\n",
        "  snapshot_time = datetime(required_year,required_month,required_day,required_hour,required_minutes)\n",
        "  return snapshot_time\n",
        "\n",
        "def in_this_5_mins(RecordedAtTime, snapshot_time):\n",
        "  format = '%Y-%m-%dT%H:%M:%S+%f:00'\n",
        "  # converting the timestamp string to datetime object\n",
        "  datetime_object = datetime.strptime(RecordedAtTime, format)\n",
        "  return snapshot_time.timestamp() - datetime_object.timestamp() < 300\n",
        "\n",
        "vehicle_df = pd.DataFrame()\n",
        "for hour_data in day_bus_data:\n",
        "  minutes = 0\n",
        "  for bus_data in hour_data:\n",
        "    vehicle_list = []\n",
        "    snapshot_time = get_snapshot_time_from_file_name(minutes)\n",
        "    minutes += 5\n",
        "    for item in bus_data:\n",
        "      RecordedAtTime = item['RecordedAtTime']\n",
        "      if in_this_5_mins(RecordedAtTime, snapshot_time):\n",
        "        vehicle_journey_data = item['MonitoredVehicleJourney']\n",
        "        LineRef = vehicle_journey_data['LineRef']\n",
        "        OperatorRef = vehicle_journey_data['OperatorRef']\n",
        "        VehicleRef= vehicle_journey_data['VehicleRef']\n",
        "        my_dict = {'RecordedAtTime': RecordedAtTime,'LineRef': LineRef,'OperatorRef': OperatorRef, 'VehicleRef': VehicleRef}\n",
        "        vehicle_list.append(my_dict)\n",
        "    vehicle_list_df = pd.DataFrame(vehicle_list)\n",
        "    vehicle_df = vehicle_df.append(vehicle_list_df) \n",
        "print(vehicle_df.info())\n",
        "   "
      ],
      "metadata": {
        "colab": {
          "base_uri": "https://localhost:8080/"
        },
        "id": "RwHnB_DEIKPH",
        "outputId": "78425e9e-ccb9-476a-ba6c-29702a4ffe30"
      },
      "execution_count": 42,
      "outputs": [
        {
          "output_type": "stream",
          "name": "stdout",
          "text": [
            "<class 'pandas.core.frame.DataFrame'>\n",
            "Int64Index: 23354 entries, 0 to 117\n",
            "Data columns (total 4 columns):\n",
            " #   Column          Non-Null Count  Dtype \n",
            "---  ------          --------------  ----- \n",
            " 0   RecordedAtTime  23354 non-null  object\n",
            " 1   LineRef         23354 non-null  object\n",
            " 2   OperatorRef     23354 non-null  object\n",
            " 3   VehicleRef      23354 non-null  object\n",
            "dtypes: object(4)\n",
            "memory usage: 912.3+ KB\n",
            "None\n"
          ]
        }
      ]
    },
    {
      "cell_type": "markdown",
      "source": [
        "There is an updated dataset here with the engine types for each vehicle (by vehicleRef). \n",
        "\n",
        "python-programming-for-data/updated_bus_regs.csv at main · futureCodersSE/python-programming-for-data\n",
        "\n",
        "The next step will be to create a copy of  dataframe, with an extra column 'Emission Class' and to fill in the value for each row of data by looking up the vehicle ref and getting the emission class.\n",
        "\n",
        "This will result in a new dataframe with some null values in the Emission Class column as the list may not be completely up to date.\n",
        "\n",
        "However, I'll be able to find a trend in the vehicle refs (e.g. if the vehicle ref is greater than 6000 then the vehicle is probably a EURO VI)"
      ],
      "metadata": {
        "id": "lRSnwfNdpzY7"
      }
    },
    {
      "cell_type": "code",
      "source": [
        "def get_emission_data():\n",
        "  url = \"https://raw.githubusercontent.com/futureCodersSE/python-programming-for-data/main/Datasets/updated_bus_regs.csv\"\n",
        "  df = pd.read_csv(url)\n",
        "  return df\n",
        "\n",
        "def add_emission_class(v_df):\n",
        "  emissions_df = get_emission_data()\n",
        "\n",
        "  def get_emission_class(df):\n",
        "      em_list = emissions_df[emissions_df['Last tracked'] == df['VehicleRef']]['Emission Class'].tolist()\n",
        "        \n",
        "      if len(em_list) > 0:\n",
        "         return em_list[0]\n",
        "      else:\n",
        "         return None\n",
        "\n",
        "  v_df['Emission Class'] = v_df.apply(get_emission_class, axis=1)\n",
        "  return v_df\n",
        "# Testing\n",
        "em_df = vehicle_df.copy()\n",
        "em_df['VehicleRef'] = pd.to_numeric(em_df['VehicleRef'], errors=\"coerce\")\n",
        "actual = add_emission_class(em_df)\n",
        "display(actual.info())"
      ],
      "metadata": {
        "colab": {
          "base_uri": "https://localhost:8080/",
          "height": 243
        },
        "id": "rpxTsJxrqLun",
        "outputId": "a0ed2489-7f06-4333-eefe-0e4e4007801d"
      },
      "execution_count": 52,
      "outputs": [
        {
          "output_type": "stream",
          "name": "stdout",
          "text": [
            "<class 'pandas.core.frame.DataFrame'>\n",
            "Int64Index: 23354 entries, 0 to 117\n",
            "Data columns (total 5 columns):\n",
            " #   Column          Non-Null Count  Dtype  \n",
            "---  ------          --------------  -----  \n",
            " 0   RecordedAtTime  23354 non-null  object \n",
            " 1   LineRef         23354 non-null  object \n",
            " 2   OperatorRef     23354 non-null  object \n",
            " 3   VehicleRef      23234 non-null  float64\n",
            " 4   Emission Class  22774 non-null  object \n",
            "dtypes: float64(1), object(4)\n",
            "memory usage: 1.1+ MB\n"
          ]
        },
        {
          "output_type": "display_data",
          "data": {
            "text/plain": [
              "None"
            ]
          },
          "metadata": {}
        }
      ]
    },
    {
      "cell_type": "code",
      "source": [
        "emission_copy = actual.groupby(['Emission Class']).count()\n",
        "display(emission_copy)\n",
        "euro_3_df = actual[actual['Emission Class'] == 'EURO III']\n",
        "print(\"Unique number of EURO III buses on the road:\",len(euro_3_df['VehicleRef'].unique()))\n",
        "\n",
        "#if set(['EURO III']).issubset(emission_copy.columns):\n",
        "euro_3_vehicles = emission_copy['VehicleRef']['EURO III']\n",
        "euro_3_vehicles_5minutes = euro_3_vehicles * 5 \n",
        "print(\"Total number of on road hours for EURO III buses during a one day period: \",round(euro_3_vehicles_5minutes/60))"
      ],
      "metadata": {
        "colab": {
          "base_uri": "https://localhost:8080/",
          "height": 241
        },
        "id": "fCRCThiEqgEq",
        "outputId": "e931de8c-ee98-4727-bd86-feac28193aa1"
      },
      "execution_count": 51,
      "outputs": [
        {
          "output_type": "display_data",
          "data": {
            "text/plain": [
              "                RecordedAtTime  LineRef  OperatorRef  VehicleRef\n",
              "Emission Class                                                  \n",
              "EURO III                  5029     5029         5029        5029\n",
              "EURO IV                   4338     4338         4338        4338\n",
              "EURO V                    1807     1807         1807        1807\n",
              "EURO VI                  11600    11600        11600       11600"
            ],
            "text/html": [
              "\n",
              "  <div id=\"df-9acc2c13-8c97-4fe5-ae03-bad8c253bd7c\">\n",
              "    <div class=\"colab-df-container\">\n",
              "      <div>\n",
              "<style scoped>\n",
              "    .dataframe tbody tr th:only-of-type {\n",
              "        vertical-align: middle;\n",
              "    }\n",
              "\n",
              "    .dataframe tbody tr th {\n",
              "        vertical-align: top;\n",
              "    }\n",
              "\n",
              "    .dataframe thead th {\n",
              "        text-align: right;\n",
              "    }\n",
              "</style>\n",
              "<table border=\"1\" class=\"dataframe\">\n",
              "  <thead>\n",
              "    <tr style=\"text-align: right;\">\n",
              "      <th></th>\n",
              "      <th>RecordedAtTime</th>\n",
              "      <th>LineRef</th>\n",
              "      <th>OperatorRef</th>\n",
              "      <th>VehicleRef</th>\n",
              "    </tr>\n",
              "    <tr>\n",
              "      <th>Emission Class</th>\n",
              "      <th></th>\n",
              "      <th></th>\n",
              "      <th></th>\n",
              "      <th></th>\n",
              "    </tr>\n",
              "  </thead>\n",
              "  <tbody>\n",
              "    <tr>\n",
              "      <th>EURO III</th>\n",
              "      <td>5029</td>\n",
              "      <td>5029</td>\n",
              "      <td>5029</td>\n",
              "      <td>5029</td>\n",
              "    </tr>\n",
              "    <tr>\n",
              "      <th>EURO IV</th>\n",
              "      <td>4338</td>\n",
              "      <td>4338</td>\n",
              "      <td>4338</td>\n",
              "      <td>4338</td>\n",
              "    </tr>\n",
              "    <tr>\n",
              "      <th>EURO V</th>\n",
              "      <td>1807</td>\n",
              "      <td>1807</td>\n",
              "      <td>1807</td>\n",
              "      <td>1807</td>\n",
              "    </tr>\n",
              "    <tr>\n",
              "      <th>EURO VI</th>\n",
              "      <td>11600</td>\n",
              "      <td>11600</td>\n",
              "      <td>11600</td>\n",
              "      <td>11600</td>\n",
              "    </tr>\n",
              "  </tbody>\n",
              "</table>\n",
              "</div>\n",
              "      <button class=\"colab-df-convert\" onclick=\"convertToInteractive('df-9acc2c13-8c97-4fe5-ae03-bad8c253bd7c')\"\n",
              "              title=\"Convert this dataframe to an interactive table.\"\n",
              "              style=\"display:none;\">\n",
              "        \n",
              "  <svg xmlns=\"http://www.w3.org/2000/svg\" height=\"24px\"viewBox=\"0 0 24 24\"\n",
              "       width=\"24px\">\n",
              "    <path d=\"M0 0h24v24H0V0z\" fill=\"none\"/>\n",
              "    <path d=\"M18.56 5.44l.94 2.06.94-2.06 2.06-.94-2.06-.94-.94-2.06-.94 2.06-2.06.94zm-11 1L8.5 8.5l.94-2.06 2.06-.94-2.06-.94L8.5 2.5l-.94 2.06-2.06.94zm10 10l.94 2.06.94-2.06 2.06-.94-2.06-.94-.94-2.06-.94 2.06-2.06.94z\"/><path d=\"M17.41 7.96l-1.37-1.37c-.4-.4-.92-.59-1.43-.59-.52 0-1.04.2-1.43.59L10.3 9.45l-7.72 7.72c-.78.78-.78 2.05 0 2.83L4 21.41c.39.39.9.59 1.41.59.51 0 1.02-.2 1.41-.59l7.78-7.78 2.81-2.81c.8-.78.8-2.07 0-2.86zM5.41 20L4 18.59l7.72-7.72 1.47 1.35L5.41 20z\"/>\n",
              "  </svg>\n",
              "      </button>\n",
              "      \n",
              "  <style>\n",
              "    .colab-df-container {\n",
              "      display:flex;\n",
              "      flex-wrap:wrap;\n",
              "      gap: 12px;\n",
              "    }\n",
              "\n",
              "    .colab-df-convert {\n",
              "      background-color: #E8F0FE;\n",
              "      border: none;\n",
              "      border-radius: 50%;\n",
              "      cursor: pointer;\n",
              "      display: none;\n",
              "      fill: #1967D2;\n",
              "      height: 32px;\n",
              "      padding: 0 0 0 0;\n",
              "      width: 32px;\n",
              "    }\n",
              "\n",
              "    .colab-df-convert:hover {\n",
              "      background-color: #E2EBFA;\n",
              "      box-shadow: 0px 1px 2px rgba(60, 64, 67, 0.3), 0px 1px 3px 1px rgba(60, 64, 67, 0.15);\n",
              "      fill: #174EA6;\n",
              "    }\n",
              "\n",
              "    [theme=dark] .colab-df-convert {\n",
              "      background-color: #3B4455;\n",
              "      fill: #D2E3FC;\n",
              "    }\n",
              "\n",
              "    [theme=dark] .colab-df-convert:hover {\n",
              "      background-color: #434B5C;\n",
              "      box-shadow: 0px 1px 3px 1px rgba(0, 0, 0, 0.15);\n",
              "      filter: drop-shadow(0px 1px 2px rgba(0, 0, 0, 0.3));\n",
              "      fill: #FFFFFF;\n",
              "    }\n",
              "  </style>\n",
              "\n",
              "      <script>\n",
              "        const buttonEl =\n",
              "          document.querySelector('#df-9acc2c13-8c97-4fe5-ae03-bad8c253bd7c button.colab-df-convert');\n",
              "        buttonEl.style.display =\n",
              "          google.colab.kernel.accessAllowed ? 'block' : 'none';\n",
              "\n",
              "        async function convertToInteractive(key) {\n",
              "          const element = document.querySelector('#df-9acc2c13-8c97-4fe5-ae03-bad8c253bd7c');\n",
              "          const dataTable =\n",
              "            await google.colab.kernel.invokeFunction('convertToInteractive',\n",
              "                                                     [key], {});\n",
              "          if (!dataTable) return;\n",
              "\n",
              "          const docLinkHtml = 'Like what you see? Visit the ' +\n",
              "            '<a target=\"_blank\" href=https://colab.research.google.com/notebooks/data_table.ipynb>data table notebook</a>'\n",
              "            + ' to learn more about interactive tables.';\n",
              "          element.innerHTML = '';\n",
              "          dataTable['output_type'] = 'display_data';\n",
              "          await google.colab.output.renderOutput(dataTable, element);\n",
              "          const docLink = document.createElement('div');\n",
              "          docLink.innerHTML = docLinkHtml;\n",
              "          element.appendChild(docLink);\n",
              "        }\n",
              "      </script>\n",
              "    </div>\n",
              "  </div>\n",
              "  "
            ]
          },
          "metadata": {}
        },
        {
          "output_type": "stream",
          "name": "stdout",
          "text": [
            "Unique number of EURO III buses on the road: 31\n",
            "Total number of on road hours for EURO III buses during a one day period:  419\n"
          ]
        }
      ]
    },
    {
      "cell_type": "markdown",
      "source": [
        "#Saving clean data in csv file\n"
      ],
      "metadata": {
        "id": "33uJ9AkZpP7B"
      }
    },
    {
      "cell_type": "markdown",
      "source": [
        "Mounting and unmounting the Google Drive\n",
        "In order to be able to open and save files on Google Drive, with Python, you first need to mount the Drive.\n"
      ],
      "metadata": {
        "id": "VJk4oIDZpabn"
      }
    },
    {
      "cell_type": "code",
      "source": [
        "from google.colab import drive\n",
        "\n",
        "def mount_drive():\n",
        "  drive.mount('/content/drive', force_remount=True)\n",
        "  folder_name = \"/content/drive/MyDrive/Colab_data\"\n",
        "  return folder_name\n",
        "data_folder = mount_drive()\n",
        "print(data_folder)"
      ],
      "metadata": {
        "id": "IHegZWdFTPe0",
        "colab": {
          "base_uri": "https://localhost:8080/"
        },
        "outputId": "a01afd9c-7b4f-441f-bac3-85e0503ea380"
      },
      "execution_count": 34,
      "outputs": [
        {
          "output_type": "stream",
          "name": "stdout",
          "text": [
            "Mounted at /content/drive\n",
            "/content/drive/MyDrive/Colab_data\n"
          ]
        }
      ]
    },
    {
      "cell_type": "markdown",
      "source": [
        "The code will save a copy of the file as recording date_vehicle_data.csv"
      ],
      "metadata": {
        "id": "ikuZnew1pmK2"
      }
    },
    {
      "cell_type": "code",
      "source": [
        "def save_data(df, path):\n",
        "  try:\n",
        "     # append data frame to CSV file\n",
        "    file_name = '/'+ recording_date +'_vehicle_data.csv'\n",
        "    df.to_csv(path + file_name)\n",
        "    print(\"File saved successfully\")\n",
        "  except:\n",
        "    print(\"There was an error when trying to save the file.\")\n",
        "path = mount_drive()\n",
        "save_data(vehicle_df, path)"
      ],
      "metadata": {
        "id": "Gks5ZcFDTXXq",
        "colab": {
          "base_uri": "https://localhost:8080/"
        },
        "outputId": "d79a55d5-3cd2-4e1d-eec6-123929ed5903"
      },
      "execution_count": 46,
      "outputs": [
        {
          "output_type": "stream",
          "name": "stdout",
          "text": [
            "Mounted at /content/drive\n",
            "File saved successfully\n"
          ]
        }
      ]
    },
    {
      "cell_type": "code",
      "source": [
        "from pandas.io.formats.info import DataFrameInfo\n",
        "def save_data(df, path):\n",
        "  try:\n",
        "    file_name = '/'+ recording_date + '_vehicle_emission_data' +'.csv'\n",
        "    df.to_csv(path + file_name)\n",
        "    print(\"File saved successfully\")\n",
        "  except:\n",
        "    print(\"There was an error when trying to save the file.\")\n",
        "path = mount_drive()\n",
        "save_data(actual, path)"
      ],
      "metadata": {
        "colab": {
          "base_uri": "https://localhost:8080/"
        },
        "id": "tzBhZMaHqYMG",
        "outputId": "222390c8-8c10-4ab8-f5ad-0926f2c1c2c6"
      },
      "execution_count": 47,
      "outputs": [
        {
          "output_type": "stream",
          "name": "stdout",
          "text": [
            "Mounted at /content/drive\n",
            "File saved successfully\n"
          ]
        }
      ]
    },
    {
      "cell_type": "markdown",
      "source": [
        "After finished working with the files, you should always unmount the Drive."
      ],
      "metadata": {
        "id": "gIOp_5nEiKPb"
      }
    },
    {
      "cell_type": "code",
      "source": [
        "def unmount_drive():\n",
        "  drive.flush_and_unmount()\n",
        "  print('All changes made in this colab session should now be visible in Drive.')\n",
        "unmount_drive()"
      ],
      "metadata": {
        "colab": {
          "base_uri": "https://localhost:8080/"
        },
        "id": "w87t7_nxh03e",
        "outputId": "47c2b74a-5df8-4939-df96-38592075269f"
      },
      "execution_count": 38,
      "outputs": [
        {
          "output_type": "stream",
          "name": "stdout",
          "text": [
            "All changes made in this colab session should now be visible in Drive.\n"
          ]
        }
      ]
    }
  ]
}